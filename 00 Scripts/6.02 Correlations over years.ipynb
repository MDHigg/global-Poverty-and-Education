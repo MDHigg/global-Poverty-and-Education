{
 "cells": [
  {
   "cell_type": "markdown",
   "id": "2fb6b36e",
   "metadata": {},
   "source": [
    "# Investigation into the Time Lag between Educaiton Improvement and Decreasing Poverty Levels\n",
    "\n",
    "Previous investigation showed that education enrolment rates and poverty levels are correlated.\n",
    "\n",
    "The next step is to see what timefame has the highest correlation affect, e.g. after how many years does a change in education rate does the poverty rate decrease (or vice verse).\n",
    "\n",
    "This is one step towards cause and effect."
   ]
  },
  {
   "cell_type": "code",
   "execution_count": 2,
   "id": "c9414bd0",
   "metadata": {},
   "outputs": [],
   "source": [
    "import pandas as pd\n",
    "import numpy as np\n",
    "import seaborn as sns\n",
    "import matplotlib.pyplot as plt\n",
    "import matplotlib\n",
    "import os"
   ]
  },
  {
   "cell_type": "code",
   "execution_count": 3,
   "id": "a38ed2e8",
   "metadata": {},
   "outputs": [],
   "source": [
    "# Ensure charts are displayed in the notebook without the need to \"call\"\n",
    "%matplotlib inline"
   ]
  },
  {
   "cell_type": "code",
   "execution_count": 4,
   "id": "67c16bab",
   "metadata": {},
   "outputs": [],
   "source": [
    "# Define path\n",
    "path = r'C:\\Users\\Michael\\Desktop\\Career Foundry\\02 Data Immersion Course\\06 Advanced Analytics and Dashboard Design'\n",
    "# import data\n",
    "df = pd.read_csv(os.path.join(path,'00 Data', 'World Bank Cleaned', 'eco_edu_pov.csv'))"
   ]
  },
  {
   "cell_type": "code",
   "execution_count": 5,
   "id": "e8b30c6f",
   "metadata": {},
   "outputs": [
    {
     "data": {
      "text/plain": [
       "['Unnamed: 0',\n",
       " 'Country Name',\n",
       " 'Year',\n",
       " 'GDP per capita (constant 2015 US$)',\n",
       " 'GDP per capita growth (annual %)',\n",
       " 'GNI per capita (constant 2015 US$)',\n",
       " 'GNI per capita growth (annual %)',\n",
       " 'Adolescents out of school (% of lower secondary school age)',\n",
       " 'Adolescents out of school, female (% of female lower secondary school age)',\n",
       " 'Adolescents out of school, male (% of male lower secondary school age)',\n",
       " 'Children out of school (% of primary school age)',\n",
       " 'Children out of school, female (% of female primary school age)',\n",
       " 'Children out of school, male (% of male primary school age)',\n",
       " 'Government expenditure on education, total (% of GDP)',\n",
       " 'Primary completion rate, female (% of relevant age group)',\n",
       " 'Primary completion rate, male (% of relevant age group)',\n",
       " 'Primary completion rate, total (% of relevant age group)',\n",
       " 'School enrollment, primary (% net)',\n",
       " 'School enrollment, primary, female (% net)',\n",
       " 'School enrollment, primary, male (% net)',\n",
       " 'School enrollment, secondary (% net)',\n",
       " 'School enrollment, secondary, female (% net)',\n",
       " 'School enrollment, secondary, male (% net)',\n",
       " 'Gini index',\n",
       " 'Poverty headcount ratio at $2.15 a day (2017 PPP) (% of population)',\n",
       " 'Poverty headcount ratio at $3.65 a day (2017 PPP) (% of population)',\n",
       " 'Poverty headcount ratio at $6.85 a day (2017 PPP) (% of population)',\n",
       " 'Poverty headcount ratio at national poverty lines (% of population)']"
      ]
     },
     "execution_count": 5,
     "metadata": {},
     "output_type": "execute_result"
    }
   ],
   "source": [
    "list(df)"
   ]
  },
  {
   "cell_type": "markdown",
   "id": "ecdcf075",
   "metadata": {},
   "source": [
    "### The program will cycle through all the avaiable years making a list for the poverty rate and the education rate in each year. Once all the data has been fed into the list the correlation will be calculated."
   ]
  },
  {
   "cell_type": "code",
   "execution_count": 28,
   "id": "41adf434",
   "metadata": {},
   "outputs": [
    {
     "name": "stdout",
     "output_type": "stream",
     "text": [
      "          1996      1997      1998      1999      2000      2001      2002  \\\n",
      "1996 -0.739183 -0.736307 -0.731965 -0.726650 -0.720732 -0.725884 -0.736134   \n",
      "1997 -0.740980 -0.737805 -0.733592 -0.728016 -0.721988 -0.727075 -0.737451   \n",
      "1998 -0.743623 -0.740258 -0.736311 -0.730780 -0.724848 -0.729964 -0.740603   \n",
      "1999 -0.745009 -0.741422 -0.737635 -0.731940 -0.725937 -0.731104 -0.741943   \n",
      "2000 -0.748079 -0.744194 -0.740693 -0.734970 -0.729558 -0.735129 -0.746297   \n",
      "2001 -0.755671 -0.751792 -0.748505 -0.743064 -0.737988 -0.743914 -0.754840   \n",
      "2002 -0.758207 -0.754067 -0.750633 -0.745497 -0.740713 -0.747115 -0.757971   \n",
      "2003 -0.762840 -0.758506 -0.755006 -0.750749 -0.746468 -0.753435 -0.764625   \n",
      "2004 -0.765474 -0.761132 -0.757566 -0.753737 -0.749816 -0.757173 -0.768390   \n",
      "2005 -0.769927 -0.765720 -0.762319 -0.758134 -0.754159 -0.761467 -0.772360   \n",
      "2006 -0.770922 -0.766390 -0.762801 -0.759363 -0.755453 -0.762634 -0.774010   \n",
      "2007 -0.768986 -0.763441 -0.759492 -0.757517 -0.753848 -0.761171 -0.774056   \n",
      "2008 -0.768792 -0.763375 -0.759336 -0.756706 -0.752886 -0.760571 -0.773653   \n",
      "2009 -0.767735 -0.762676 -0.759104 -0.757153 -0.753023 -0.760515 -0.773372   \n",
      "2010 -0.766100 -0.760842 -0.757335 -0.756054 -0.751993 -0.759253 -0.772365   \n",
      "2011 -0.762803 -0.756865 -0.753037 -0.753213 -0.749336 -0.756485 -0.769984   \n",
      "2012 -0.761799 -0.755605 -0.751738 -0.752216 -0.748007 -0.755383 -0.768734   \n",
      "2013 -0.750493 -0.744271 -0.740739 -0.741704 -0.737625 -0.745151 -0.758965   \n",
      "2014 -0.746193 -0.739998 -0.737098 -0.738346 -0.734418 -0.742454 -0.756511   \n",
      "2015 -0.744450 -0.738294 -0.735842 -0.737399 -0.733428 -0.741677 -0.755835   \n",
      "2016 -0.741672 -0.735484 -0.733171 -0.734794 -0.730655 -0.739098 -0.753593   \n",
      "2017 -0.743254 -0.737079 -0.734742 -0.736042 -0.731563 -0.739911 -0.754380   \n",
      "2018 -0.742531 -0.735876 -0.733431 -0.734865 -0.730349 -0.738608 -0.753564   \n",
      "2019 -0.742495 -0.735840 -0.733396 -0.734808 -0.730269 -0.738499 -0.753424   \n",
      "2020 -0.742495 -0.735840 -0.733396 -0.734808 -0.730269 -0.738499 -0.753424   \n",
      "2021 -0.742495 -0.735840 -0.733396 -0.734808 -0.730269 -0.738499 -0.753424   \n",
      "\n",
      "          2003      2004      2005  ...      2012      2013      2014  \\\n",
      "1996 -0.738796 -0.742261 -0.738036  ... -0.703445 -0.697780 -0.689181   \n",
      "1997 -0.740123 -0.743599 -0.739315  ... -0.704444 -0.698793 -0.690108   \n",
      "1998 -0.743392 -0.746753 -0.742396  ... -0.707659 -0.701888 -0.693135   \n",
      "1999 -0.744995 -0.748535 -0.744321  ... -0.710351 -0.704806 -0.696121   \n",
      "2000 -0.749862 -0.754838 -0.751081  ... -0.717823 -0.712429 -0.703818   \n",
      "2001 -0.758489 -0.763950 -0.760409  ... -0.729007 -0.723721 -0.715003   \n",
      "2002 -0.761746 -0.767634 -0.764156  ... -0.735643 -0.730566 -0.721950   \n",
      "2003 -0.768649 -0.774789 -0.771275  ... -0.743519 -0.738353 -0.729817   \n",
      "2004 -0.772580 -0.779050 -0.775460  ... -0.748736 -0.743570 -0.735078   \n",
      "2005 -0.776488 -0.782757 -0.779483  ... -0.753506 -0.748443 -0.740086   \n",
      "2006 -0.778100 -0.784333 -0.781639  ... -0.756563 -0.751392 -0.742937   \n",
      "2007 -0.778377 -0.784776 -0.782938  ... -0.759341 -0.754449 -0.746253   \n",
      "2008 -0.778509 -0.785088 -0.783465  ... -0.761490 -0.756602 -0.748347   \n",
      "2009 -0.778596 -0.785274 -0.784662  ... -0.763189 -0.758519 -0.750426   \n",
      "2010 -0.777698 -0.784713 -0.784578  ... -0.763446 -0.758947 -0.750891   \n",
      "2011 -0.775210 -0.782126 -0.782109  ... -0.761070 -0.756932 -0.749101   \n",
      "2012 -0.774424 -0.781604 -0.781785  ... -0.761328 -0.757206 -0.749380   \n",
      "2013 -0.764774 -0.772062 -0.772624  ... -0.754683 -0.750899 -0.743329   \n",
      "2014 -0.762573 -0.769720 -0.770374  ... -0.752987 -0.749550 -0.742333   \n",
      "2015 -0.761936 -0.768689 -0.769291  ... -0.751255 -0.747552 -0.740252   \n",
      "2016 -0.759984 -0.766655 -0.767235  ... -0.750442 -0.747246 -0.740578   \n",
      "2017 -0.760636 -0.766928 -0.767400  ... -0.751314 -0.748297 -0.741957   \n",
      "2018 -0.760011 -0.766546 -0.767098  ... -0.752552 -0.749655 -0.743395   \n",
      "2019 -0.759841 -0.766454 -0.767092  ... -0.752911 -0.750010 -0.743746   \n",
      "2020 -0.759841 -0.766454 -0.767092  ... -0.752911 -0.750010 -0.743746   \n",
      "2021 -0.759841 -0.766454 -0.767092  ... -0.752911 -0.750010 -0.743746   \n",
      "\n",
      "          2015      2016      2017      2018      2019      2020      2021  \n",
      "1996 -0.681552 -0.672495 -0.657001 -0.641237 -0.639608 -0.641613 -0.639584  \n",
      "1997 -0.682390 -0.673235 -0.657566 -0.641716 -0.640158 -0.642099 -0.640117  \n",
      "1998 -0.685239 -0.675998 -0.660072 -0.644122 -0.642642 -0.644366 -0.642594  \n",
      "1999 -0.688282 -0.679047 -0.662932 -0.646722 -0.645263 -0.646934 -0.645240  \n",
      "2000 -0.696083 -0.687147 -0.671190 -0.655008 -0.653561 -0.655170 -0.653579  \n",
      "2001 -0.707359 -0.698618 -0.682880 -0.666723 -0.665269 -0.666756 -0.665250  \n",
      "2002 -0.714637 -0.706115 -0.690606 -0.674671 -0.673376 -0.674718 -0.673261  \n",
      "2003 -0.722620 -0.714371 -0.699261 -0.683631 -0.682518 -0.683818 -0.682364  \n",
      "2004 -0.727910 -0.719957 -0.705083 -0.689492 -0.688369 -0.689648 -0.688169  \n",
      "2005 -0.733215 -0.725565 -0.711054 -0.695642 -0.694372 -0.695512 -0.694107  \n",
      "2006 -0.736057 -0.728546 -0.714204 -0.698825 -0.697497 -0.698380 -0.697271  \n",
      "2007 -0.739781 -0.732511 -0.718310 -0.703041 -0.701783 -0.702406 -0.701609  \n",
      "2008 -0.741765 -0.734549 -0.720218 -0.704814 -0.703377 -0.703687 -0.703023  \n",
      "2009 -0.743874 -0.736873 -0.722704 -0.707254 -0.705747 -0.705821 -0.705410  \n",
      "2010 -0.744553 -0.737784 -0.723676 -0.708245 -0.706716 -0.706625 -0.706384  \n",
      "2011 -0.743108 -0.736780 -0.722899 -0.707610 -0.706070 -0.705863 -0.705820  \n",
      "2012 -0.743641 -0.737694 -0.724139 -0.709016 -0.707505 -0.707278 -0.707273  \n",
      "2013 -0.737941 -0.732362 -0.719206 -0.704503 -0.702957 -0.702692 -0.702742  \n",
      "2014 -0.737255 -0.732183 -0.719328 -0.704722 -0.703172 -0.702920 -0.703034  \n",
      "2015 -0.735142 -0.730581 -0.718076 -0.703707 -0.702212 -0.701915 -0.702094  \n",
      "2016 -0.735596 -0.731483 -0.719487 -0.705509 -0.704114 -0.703563 -0.703974  \n",
      "2017 -0.736958 -0.733358 -0.721874 -0.708270 -0.706823 -0.706173 -0.706798  \n",
      "2018 -0.738506 -0.735158 -0.723717 -0.710158 -0.708791 -0.707930 -0.708686  \n",
      "2019 -0.738853 -0.735501 -0.724057 -0.710491 -0.709122 -0.708262 -0.709017  \n",
      "2020 -0.738853 -0.735501 -0.724057 -0.710491 -0.709122 -0.708262 -0.709017  \n",
      "2021 -0.738853 -0.735501 -0.724057 -0.710491 -0.709122 -0.708262 -0.709017  \n",
      "\n",
      "[26 rows x 26 columns]\n"
     ]
    }
   ],
   "source": [
    "correlation_df = pd.DataFrame()\n",
    "\n",
    "# i is the year for the poverty level\n",
    "for i in range(1996, 2022):\n",
    "\n",
    "    # j is the year for the education rate\n",
    "    # empty the list of correlations\n",
    "    education_correl = []\n",
    "    # print(education_correl)\n",
    "    for j in range(1996, 2022):\n",
    "        # find the correlation between the povert and the educaiton in the two years\n",
    "        \n",
    "        # correlation = poverty_list.corr(education_list)\n",
    "        # print(str(i)+' '+str(j))\n",
    "        pov_frame = df.loc[df['Year'] == i, 'Poverty headcount ratio at $2.15 a day (2017 PPP) (% of population)']\n",
    "        pov_frame = pov_frame.reset_index()\n",
    "        \n",
    "        edu_frame = df.loc[df['Year'] == j, 'School enrollment, secondary (% net)']\n",
    "        edu_frame = edu_frame.reset_index()\n",
    "        \n",
    "        education_correl.append(pov_frame['Poverty headcount ratio at $2.15 a day (2017 PPP) (% of population)'].corr(edu_frame['School enrollment, secondary (% net)']))\n",
    "        # print(education_correl)\n",
    "    \n",
    "    # add the list of correlations as a new column in the correlation df\n",
    "    correlation_df[i] = education_correl\n",
    "correlation_df = pd.DataFrame(correlation_df)\n",
    "correlation_df.index += 1996\n",
    "print(correlation_df)"
   ]
  },
  {
   "cell_type": "code",
   "execution_count": 29,
   "id": "54e647ba",
   "metadata": {
    "scrolled": true
   },
   "outputs": [
    {
     "data": {
      "text/plain": [
       "<Axes: xlabel='Education Measure Year', ylabel='Poverty Measure Year'>"
      ]
     },
     "execution_count": 29,
     "metadata": {},
     "output_type": "execute_result"
    },
    {
     "data": {
      "image/png": "[encoded data removed]",
      "text/plain": [
       "<Figure size 640x480 with 2 Axes>"
      ]
     },
     "metadata": {},
     "output_type": "display_data"
    }
   ],
   "source": [
    "correl_map = sns.heatmap(correlation_df)\n",
    "correl_map.set_xlabel('Education Measure Year')\n",
    "correl_map.set_ylabel('Poverty Measure Year')\n",
    "correl_map"
   ]
  },
  {
   "cell_type": "code",
   "execution_count": 43,
   "id": "390cb84d",
   "metadata": {},
   "outputs": [],
   "source": [
    "path = r'C:\\Users\\Michael\\Desktop\\Career Foundry\\02 Data Immersion Course\\06 Advanced Analytics and Dashboard Design\\00 Data'\n",
    "correlation_df.to_csv(os.path.join(path, 'correlations.csv'), index = True)"
   ]
  },
  {
   "cell_type": "code",
   "execution_count": 85,
   "id": "17c34d1e",
   "metadata": {},
   "outputs": [],
   "source": [
    "difference_correls = pd.read_csv(os.path.join(path, 'difference corr avg.csv'))"
   ]
  },
  {
   "cell_type": "code",
   "execution_count": 86,
   "id": "bf599f3e",
   "metadata": {},
   "outputs": [
    {
     "data": {
      "text/html": [
       "<div>\n",
       "<style scoped>\n",
       "    .dataframe tbody tr th:only-of-type {\n",
       "        vertical-align: middle;\n",
       "    }\n",
       "\n",
       "    .dataframe tbody tr th {\n",
       "        vertical-align: top;\n",
       "    }\n",
       "\n",
       "    .dataframe thead th {\n",
       "        text-align: right;\n",
       "    }\n",
       "</style>\n",
       "<table border=\"1\" class=\"dataframe\">\n",
       "  <thead>\n",
       "    <tr style=\"text-align: right;\">\n",
       "      <th></th>\n",
       "      <th>-25</th>\n",
       "      <th>-24</th>\n",
       "      <th>-23</th>\n",
       "      <th>-22</th>\n",
       "      <th>-21</th>\n",
       "      <th>-20</th>\n",
       "      <th>-19</th>\n",
       "      <th>-18</th>\n",
       "      <th>-17</th>\n",
       "      <th>-16</th>\n",
       "      <th>...</th>\n",
       "      <th>16</th>\n",
       "      <th>17</th>\n",
       "      <th>18</th>\n",
       "      <th>19</th>\n",
       "      <th>20</th>\n",
       "      <th>21</th>\n",
       "      <th>22</th>\n",
       "      <th>23</th>\n",
       "      <th>24</th>\n",
       "      <th>25</th>\n",
       "    </tr>\n",
       "  </thead>\n",
       "  <tbody>\n",
       "    <tr>\n",
       "      <th>0</th>\n",
       "      <td>-0.742495</td>\n",
       "      <td>-0.739168</td>\n",
       "      <td>-0.737244</td>\n",
       "      <td>-0.736644</td>\n",
       "      <td>-0.735521</td>\n",
       "      <td>-0.73596</td>\n",
       "      <td>-0.738819</td>\n",
       "      <td>-0.741977</td>\n",
       "      <td>-0.745669</td>\n",
       "      <td>-0.749808</td>\n",
       "      <td>...</td>\n",
       "      <td>-0.689463</td>\n",
       "      <td>-0.681717</td>\n",
       "      <td>-0.673482</td>\n",
       "      <td>-0.665023</td>\n",
       "      <td>-0.656644</td>\n",
       "      <td>-0.648374</td>\n",
       "      <td>-0.64275</td>\n",
       "      <td>-0.641433</td>\n",
       "      <td>-0.640865</td>\n",
       "      <td>-0.639584</td>\n",
       "    </tr>\n",
       "  </tbody>\n",
       "</table>\n",
       "<p>1 rows × 51 columns</p>\n",
       "</div>"
      ],
      "text/plain": [
       "        -25       -24       -23       -22       -21      -20       -19  \\\n",
       "0 -0.742495 -0.739168 -0.737244 -0.736644 -0.735521 -0.73596 -0.738819   \n",
       "\n",
       "        -18       -17       -16  ...        16        17        18        19  \\\n",
       "0 -0.741977 -0.745669 -0.749808  ... -0.689463 -0.681717 -0.673482 -0.665023   \n",
       "\n",
       "         20        21       22        23        24        25  \n",
       "0 -0.656644 -0.648374 -0.64275 -0.641433 -0.640865 -0.639584  \n",
       "\n",
       "[1 rows x 51 columns]"
      ]
     },
     "execution_count": 86,
     "metadata": {},
     "output_type": "execute_result"
    }
   ],
   "source": [
    "difference_correls.head()"
   ]
  },
  {
   "cell_type": "code",
   "execution_count": 99,
   "id": "550e7f11",
   "metadata": {},
   "outputs": [
    {
     "data": {
      "text/plain": [
       "<Axes: xlabel='Education Measure Lead (Years)'>"
      ]
     },
     "execution_count": 99,
     "metadata": {},
     "output_type": "execute_result"
    },
    {
     "data": {
      "image/png": "[encoded data removed]",
      "text/plain": [
       "<Figure size 2500x100 with 2 Axes>"
      ]
     },
     "metadata": {},
     "output_type": "display_data"
    }
   ],
   "source": [
    "f,ax = plt.subplots(figsize=(25,1))\n",
    "#corr = sns.heatmap(sub.corr(), annot = True, ax = ax)\n",
    "\n",
    "\n",
    "correl_diff_map = sns.heatmap(difference_correls, annot = False, ax = ax, cmap=\"PiYG_r\")\n",
    "correl_diff_map.set_xlabel('Education Measure Lead (Years)')\n",
    "correl_diff_map"
   ]
  },
  {
   "cell_type": "code",
   "execution_count": null,
   "id": "f4518a22",
   "metadata": {},
   "outputs": [],
   "source": []
  }
 ],
 "metadata": {
  "kernelspec": {
   "display_name": "Python 3 (ipykernel)",
   "language": "python",
   "name": "python3"
  },
  "language_info": {
   "codemirror_mode": {
    "name": "ipython",
    "version": 3
   },
   "file_extension": ".py",
   "mimetype": "text/x-python",
   "name": "python",
   "nbconvert_exporter": "python",
   "pygments_lexer": "ipython3",
   "version": "3.11.5"
  }
 },
 "nbformat": 4,
 "nbformat_minor": 5
}
