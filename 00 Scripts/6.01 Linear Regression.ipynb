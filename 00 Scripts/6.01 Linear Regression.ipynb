{
 "cells": [
  {
   "cell_type": "markdown",
   "metadata": {},
   "source": [
    "## 6.4 Machine Learning Part 1"
   ]
  },
  {
   "cell_type": "markdown",
   "metadata": {},
   "source": [
    "### This script contains the following:\n",
    "\n",
    "#### 1. Importing libraries and data\n",
    "#### 2. Data prep for regression analysis\n",
    "#### 3. Regression analysis\n",
    "#### 4. Performance improvement after removing outliers"
   ]
  },
  {
   "cell_type": "markdown",
   "metadata": {},
   "source": [
    "***\n",
    "***\n",
    "#### Hypothesis: If a country has a higher number of young pleople enrolled in school then its poverty level will be lower.\n",
    "***\n",
    "***"
   ]
  },
  {
   "cell_type": "markdown",
   "metadata": {},
   "source": [
    "### 1. Importing libraries and data"
   ]
  },
  {
   "cell_type": "code",
   "execution_count": 1,
   "metadata": {},
   "outputs": [],
   "source": [
    "import pandas as pd\n",
    "import numpy as np\n",
    "import seaborn as sns\n",
    "import matplotlib\n",
    "import matplotlib.pyplot as plt\n",
    "import os\n",
    "import sklearn\n",
    "from sklearn.model_selection import train_test_split \n",
    "from sklearn.linear_model import LinearRegression\n",
    "from sklearn.metrics import mean_squared_error, r2_score"
   ]
  },
  {
   "cell_type": "code",
   "execution_count": 2,
   "metadata": {},
   "outputs": [],
   "source": [
    "# This option ensures that the graphs you create are displayed within the notebook without the need to \"call\" them specifically.\n",
    "\n",
    "%matplotlib inline"
   ]
  },
  {
   "cell_type": "code",
   "execution_count": 3,
   "metadata": {},
   "outputs": [],
   "source": [
    "path = r'C:\\Users\\Michael\\Desktop\\Career Foundry\\02 Data Immersion Course\\06 Advanced Analytics and Dashboard Design\\00 Data\\World Bank Cleaned'"
   ]
  },
  {
   "cell_type": "code",
   "execution_count": 4,
   "metadata": {},
   "outputs": [],
   "source": [
    "df = pd.read_csv(os.path.join(path, 'eco_edu_pov.csv'))"
   ]
  },
  {
   "cell_type": "markdown",
   "metadata": {},
   "source": [
    "### Data checks"
   ]
  },
  {
   "cell_type": "code",
   "execution_count": 5,
   "metadata": {},
   "outputs": [
    {
     "data": {
      "text/html": [
       "<div>\n",
       "<style scoped>\n",
       "    .dataframe tbody tr th:only-of-type {\n",
       "        vertical-align: middle;\n",
       "    }\n",
       "\n",
       "    .dataframe tbody tr th {\n",
       "        vertical-align: top;\n",
       "    }\n",
       "\n",
       "    .dataframe thead th {\n",
       "        text-align: right;\n",
       "    }\n",
       "</style>\n",
       "<table border=\"1\" class=\"dataframe\">\n",
       "  <thead>\n",
       "    <tr style=\"text-align: right;\">\n",
       "      <th></th>\n",
       "      <th>Unnamed: 0</th>\n",
       "      <th>Country Name</th>\n",
       "      <th>Year</th>\n",
       "      <th>GDP per capita (constant 2015 US$)</th>\n",
       "      <th>GDP per capita growth (annual %)</th>\n",
       "      <th>GNI per capita (constant 2015 US$)</th>\n",
       "      <th>GNI per capita growth (annual %)</th>\n",
       "      <th>Adolescents out of school (% of lower secondary school age)</th>\n",
       "      <th>Adolescents out of school, female (% of female lower secondary school age)</th>\n",
       "      <th>Adolescents out of school, male (% of male lower secondary school age)</th>\n",
       "      <th>...</th>\n",
       "      <th>School enrollment, primary, female (% net)</th>\n",
       "      <th>School enrollment, primary, male (% net)</th>\n",
       "      <th>School enrollment, secondary (% net)</th>\n",
       "      <th>School enrollment, secondary, female (% net)</th>\n",
       "      <th>School enrollment, secondary, male (% net)</th>\n",
       "      <th>Gini index</th>\n",
       "      <th>Poverty headcount ratio at $2.15 a day (2017 PPP) (% of population)</th>\n",
       "      <th>Poverty headcount ratio at $3.65 a day (2017 PPP) (% of population)</th>\n",
       "      <th>Poverty headcount ratio at $6.85 a day (2017 PPP) (% of population)</th>\n",
       "      <th>Poverty headcount ratio at national poverty lines (% of population)</th>\n",
       "    </tr>\n",
       "  </thead>\n",
       "  <tbody>\n",
       "    <tr>\n",
       "      <th>0</th>\n",
       "      <td>0</td>\n",
       "      <td>Afghanistan</td>\n",
       "      <td>1996</td>\n",
       "      <td>359.766116</td>\n",
       "      <td>0.927029</td>\n",
       "      <td>597.832321</td>\n",
       "      <td>NaN</td>\n",
       "      <td>NaN</td>\n",
       "      <td>NaN</td>\n",
       "      <td>NaN</td>\n",
       "      <td>...</td>\n",
       "      <td>NaN</td>\n",
       "      <td>NaN</td>\n",
       "      <td>26.55995</td>\n",
       "      <td>14.40342</td>\n",
       "      <td>37.98502</td>\n",
       "      <td>NaN</td>\n",
       "      <td>NaN</td>\n",
       "      <td>NaN</td>\n",
       "      <td>NaN</td>\n",
       "      <td>33.7</td>\n",
       "    </tr>\n",
       "    <tr>\n",
       "      <th>1</th>\n",
       "      <td>1</td>\n",
       "      <td>Afghanistan</td>\n",
       "      <td>1997</td>\n",
       "      <td>359.766116</td>\n",
       "      <td>0.927029</td>\n",
       "      <td>597.832321</td>\n",
       "      <td>NaN</td>\n",
       "      <td>NaN</td>\n",
       "      <td>NaN</td>\n",
       "      <td>NaN</td>\n",
       "      <td>...</td>\n",
       "      <td>NaN</td>\n",
       "      <td>NaN</td>\n",
       "      <td>26.55995</td>\n",
       "      <td>14.40342</td>\n",
       "      <td>37.98502</td>\n",
       "      <td>NaN</td>\n",
       "      <td>NaN</td>\n",
       "      <td>NaN</td>\n",
       "      <td>NaN</td>\n",
       "      <td>33.7</td>\n",
       "    </tr>\n",
       "    <tr>\n",
       "      <th>2</th>\n",
       "      <td>2</td>\n",
       "      <td>Afghanistan</td>\n",
       "      <td>1998</td>\n",
       "      <td>359.766116</td>\n",
       "      <td>0.927029</td>\n",
       "      <td>597.832321</td>\n",
       "      <td>NaN</td>\n",
       "      <td>NaN</td>\n",
       "      <td>NaN</td>\n",
       "      <td>NaN</td>\n",
       "      <td>...</td>\n",
       "      <td>NaN</td>\n",
       "      <td>NaN</td>\n",
       "      <td>26.55995</td>\n",
       "      <td>14.40342</td>\n",
       "      <td>37.98502</td>\n",
       "      <td>NaN</td>\n",
       "      <td>NaN</td>\n",
       "      <td>NaN</td>\n",
       "      <td>NaN</td>\n",
       "      <td>33.7</td>\n",
       "    </tr>\n",
       "    <tr>\n",
       "      <th>3</th>\n",
       "      <td>3</td>\n",
       "      <td>Afghanistan</td>\n",
       "      <td>1999</td>\n",
       "      <td>359.766116</td>\n",
       "      <td>0.927029</td>\n",
       "      <td>597.832321</td>\n",
       "      <td>NaN</td>\n",
       "      <td>NaN</td>\n",
       "      <td>NaN</td>\n",
       "      <td>NaN</td>\n",
       "      <td>...</td>\n",
       "      <td>NaN</td>\n",
       "      <td>NaN</td>\n",
       "      <td>26.55995</td>\n",
       "      <td>14.40342</td>\n",
       "      <td>37.98502</td>\n",
       "      <td>NaN</td>\n",
       "      <td>NaN</td>\n",
       "      <td>NaN</td>\n",
       "      <td>NaN</td>\n",
       "      <td>33.7</td>\n",
       "    </tr>\n",
       "    <tr>\n",
       "      <th>4</th>\n",
       "      <td>4</td>\n",
       "      <td>Afghanistan</td>\n",
       "      <td>2000</td>\n",
       "      <td>359.766116</td>\n",
       "      <td>0.927029</td>\n",
       "      <td>597.832321</td>\n",
       "      <td>NaN</td>\n",
       "      <td>NaN</td>\n",
       "      <td>NaN</td>\n",
       "      <td>NaN</td>\n",
       "      <td>...</td>\n",
       "      <td>NaN</td>\n",
       "      <td>NaN</td>\n",
       "      <td>26.55995</td>\n",
       "      <td>14.40342</td>\n",
       "      <td>37.98502</td>\n",
       "      <td>NaN</td>\n",
       "      <td>NaN</td>\n",
       "      <td>NaN</td>\n",
       "      <td>NaN</td>\n",
       "      <td>33.7</td>\n",
       "    </tr>\n",
       "  </tbody>\n",
       "</table>\n",
       "<p>5 rows × 28 columns</p>\n",
       "</div>"
      ],
      "text/plain": [
       "   Unnamed: 0 Country Name  Year  GDP per capita (constant 2015 US$)  \\\n",
       "0           0  Afghanistan  1996                          359.766116   \n",
       "1           1  Afghanistan  1997                          359.766116   \n",
       "2           2  Afghanistan  1998                          359.766116   \n",
       "3           3  Afghanistan  1999                          359.766116   \n",
       "4           4  Afghanistan  2000                          359.766116   \n",
       "\n",
       "   GDP per capita growth (annual %)  GNI per capita (constant 2015 US$)  \\\n",
       "0                          0.927029                          597.832321   \n",
       "1                          0.927029                          597.832321   \n",
       "2                          0.927029                          597.832321   \n",
       "3                          0.927029                          597.832321   \n",
       "4                          0.927029                          597.832321   \n",
       "\n",
       "   GNI per capita growth (annual %)  \\\n",
       "0                               NaN   \n",
       "1                               NaN   \n",
       "2                               NaN   \n",
       "3                               NaN   \n",
       "4                               NaN   \n",
       "\n",
       "   Adolescents out of school (% of lower secondary school age)  \\\n",
       "0                                                NaN             \n",
       "1                                                NaN             \n",
       "2                                                NaN             \n",
       "3                                                NaN             \n",
       "4                                                NaN             \n",
       "\n",
       "   Adolescents out of school, female (% of female lower secondary school age)  \\\n",
       "0                                                NaN                            \n",
       "1                                                NaN                            \n",
       "2                                                NaN                            \n",
       "3                                                NaN                            \n",
       "4                                                NaN                            \n",
       "\n",
       "   Adolescents out of school, male (% of male lower secondary school age)  \\\n",
       "0                                                NaN                        \n",
       "1                                                NaN                        \n",
       "2                                                NaN                        \n",
       "3                                                NaN                        \n",
       "4                                                NaN                        \n",
       "\n",
       "   ...  School enrollment, primary, female (% net)  \\\n",
       "0  ...                                         NaN   \n",
       "1  ...                                         NaN   \n",
       "2  ...                                         NaN   \n",
       "3  ...                                         NaN   \n",
       "4  ...                                         NaN   \n",
       "\n",
       "   School enrollment, primary, male (% net)  \\\n",
       "0                                       NaN   \n",
       "1                                       NaN   \n",
       "2                                       NaN   \n",
       "3                                       NaN   \n",
       "4                                       NaN   \n",
       "\n",
       "   School enrollment, secondary (% net)  \\\n",
       "0                              26.55995   \n",
       "1                              26.55995   \n",
       "2                              26.55995   \n",
       "3                              26.55995   \n",
       "4                              26.55995   \n",
       "\n",
       "   School enrollment, secondary, female (% net)  \\\n",
       "0                                      14.40342   \n",
       "1                                      14.40342   \n",
       "2                                      14.40342   \n",
       "3                                      14.40342   \n",
       "4                                      14.40342   \n",
       "\n",
       "   School enrollment, secondary, male (% net)  Gini index  \\\n",
       "0                                    37.98502         NaN   \n",
       "1                                    37.98502         NaN   \n",
       "2                                    37.98502         NaN   \n",
       "3                                    37.98502         NaN   \n",
       "4                                    37.98502         NaN   \n",
       "\n",
       "   Poverty headcount ratio at $2.15 a day (2017 PPP) (% of population)  \\\n",
       "0                                                NaN                     \n",
       "1                                                NaN                     \n",
       "2                                                NaN                     \n",
       "3                                                NaN                     \n",
       "4                                                NaN                     \n",
       "\n",
       "   Poverty headcount ratio at $3.65 a day (2017 PPP) (% of population)  \\\n",
       "0                                                NaN                     \n",
       "1                                                NaN                     \n",
       "2                                                NaN                     \n",
       "3                                                NaN                     \n",
       "4                                                NaN                     \n",
       "\n",
       "   Poverty headcount ratio at $6.85 a day (2017 PPP) (% of population)  \\\n",
       "0                                                NaN                     \n",
       "1                                                NaN                     \n",
       "2                                                NaN                     \n",
       "3                                                NaN                     \n",
       "4                                                NaN                     \n",
       "\n",
       "   Poverty headcount ratio at national poverty lines (% of population)  \n",
       "0                                               33.7                    \n",
       "1                                               33.7                    \n",
       "2                                               33.7                    \n",
       "3                                               33.7                    \n",
       "4                                               33.7                    \n",
       "\n",
       "[5 rows x 28 columns]"
      ]
     },
     "execution_count": 5,
     "metadata": {},
     "output_type": "execute_result"
    }
   ],
   "source": [
    "df.head()"
   ]
  },
  {
   "cell_type": "markdown",
   "metadata": {},
   "source": [
    "##### Extreme values checks"
   ]
  },
  {
   "cell_type": "code",
   "execution_count": 6,
   "metadata": {
    "scrolled": true
   },
   "outputs": [
    {
     "name": "stderr",
     "output_type": "stream",
     "text": [
      "C:\\ProgramData\\anaconda3\\Lib\\site-packages\\seaborn\\_oldcore.py:1498: FutureWarning: is_categorical_dtype is deprecated and will be removed in a future version. Use isinstance(dtype, CategoricalDtype) instead\n",
      "  if pd.api.types.is_categorical_dtype(vector):\n",
      "C:\\ProgramData\\anaconda3\\Lib\\site-packages\\seaborn\\_oldcore.py:1119: FutureWarning: use_inf_as_na option is deprecated and will be removed in a future version. Convert inf values to NaN before operating instead.\n",
      "  with pd.option_context('mode.use_inf_as_na', True):\n",
      "C:\\ProgramData\\anaconda3\\Lib\\site-packages\\seaborn\\axisgrid.py:118: UserWarning: The figure layout has changed to tight\n",
      "  self._figure.tight_layout(*args, **kwargs)\n"
     ]
    },
    {
     "data": {
      "text/plain": [
       "<seaborn.axisgrid.FacetGrid at 0x15bc4df59d0>"
      ]
     },
     "execution_count": 6,
     "metadata": {},
     "output_type": "execute_result"
    },
    {
     "data": {
      "image/png": "[encoded data removed]",
      "text/plain": [
       "<Figure size 500x500 with 1 Axes>"
      ]
     },
     "metadata": {},
     "output_type": "display_data"
    }
   ],
   "source": [
    "sns.displot(df['School enrollment, primary (% net)'], bins=20) # check the distribution of data"
   ]
  },
  {
   "cell_type": "code",
   "execution_count": 7,
   "metadata": {},
   "outputs": [
    {
     "name": "stderr",
     "output_type": "stream",
     "text": [
      "C:\\ProgramData\\anaconda3\\Lib\\site-packages\\seaborn\\_oldcore.py:1498: FutureWarning: is_categorical_dtype is deprecated and will be removed in a future version. Use isinstance(dtype, CategoricalDtype) instead\n",
      "  if pd.api.types.is_categorical_dtype(vector):\n",
      "C:\\ProgramData\\anaconda3\\Lib\\site-packages\\seaborn\\_oldcore.py:1119: FutureWarning: use_inf_as_na option is deprecated and will be removed in a future version. Convert inf values to NaN before operating instead.\n",
      "  with pd.option_context('mode.use_inf_as_na', True):\n",
      "C:\\ProgramData\\anaconda3\\Lib\\site-packages\\seaborn\\axisgrid.py:118: UserWarning: The figure layout has changed to tight\n",
      "  self._figure.tight_layout(*args, **kwargs)\n"
     ]
    },
    {
     "data": {
      "text/plain": [
       "<seaborn.axisgrid.FacetGrid at 0x15bc4e08410>"
      ]
     },
     "execution_count": 7,
     "metadata": {},
     "output_type": "execute_result"
    },
    {
     "data": {
      "image/png": "[encoded data removed]",
      "text/plain": [
       "<Figure size 500x500 with 1 Axes>"
      ]
     },
     "metadata": {},
     "output_type": "display_data"
    }
   ],
   "source": [
    "sns.displot(df['School enrollment, secondary (% net)'], bins=20) # check the distribution of data"
   ]
  },
  {
   "cell_type": "markdown",
   "metadata": {},
   "source": [
    "### 3. Data prep for regression analysis "
   ]
  },
  {
   "cell_type": "code",
   "execution_count": 8,
   "metadata": {},
   "outputs": [
    {
     "name": "stdout",
     "output_type": "stream",
     "text": [
      "<class 'pandas.core.frame.DataFrame'>\n",
      "Index: 164 entries, 45 to 4751\n",
      "Data columns (total 2 columns):\n",
      " #   Column                                                               Non-Null Count  Dtype  \n",
      "---  ------                                                               --------------  -----  \n",
      " 0   School enrollment, secondary (% net)                                 164 non-null    float64\n",
      " 1   Poverty headcount ratio at $2.15 a day (2017 PPP) (% of population)  164 non-null    float64\n",
      "dtypes: float64(2)\n",
      "memory usage: 3.8 KB\n"
     ]
    }
   ],
   "source": [
    "# Create a subframe with the test columns\n",
    "subframe = df[df['Year'] == 2015][['School enrollment, secondary (% net)', 'Poverty headcount ratio at $2.15 a day (2017 PPP) (% of population)']]\n",
    "\n",
    "\n",
    "# Remove NaN rows from dataframe\n",
    "subframe = subframe[subframe['School enrollment, secondary (% net)'].notna()]\n",
    "subframe = subframe[subframe['Poverty headcount ratio at $2.15 a day (2017 PPP) (% of population)'].notna()]\n",
    "\n",
    "subframe.info()"
   ]
  },
  {
   "cell_type": "code",
   "execution_count": 9,
   "metadata": {
    "scrolled": true
   },
   "outputs": [
    {
     "data": {
      "image/png": "[encoded data removed]",
      "text/plain": [
       "<Figure size 640x480 with 1 Axes>"
      ]
     },
     "metadata": {},
     "output_type": "display_data"
    }
   ],
   "source": [
    "# Create a scatterplot using matplotlib for another look at how the chosen variables plot against each other.\n",
    "\n",
    "subframe.plot(x = 'School enrollment, secondary (% net)', y='Poverty headcount ratio at $2.15 a day (2017 PPP) (% of population)',style='x')\n",
    "plt.title('2015 Secondary Enrolment vs Poverty Rate')  \n",
    "plt.xlabel('School enrollment')  \n",
    "plt.ylabel('Poverty Rate')  \n",
    "plt.show()"
   ]
  },
  {
   "cell_type": "code",
   "execution_count": 10,
   "metadata": {},
   "outputs": [],
   "source": [
    "# Reshape the variables into NumPy arrays and put them into separate objects.\n",
    "\n",
    "X = subframe['School enrollment, secondary (% net)'].values.reshape(-1,1)\n",
    "y = subframe['Poverty headcount ratio at $2.15 a day (2017 PPP) (% of population)'].values.reshape(-1,1)"
   ]
  },
  {
   "cell_type": "code",
   "execution_count": 11,
   "metadata": {},
   "outputs": [
    {
     "data": {
      "text/plain": [
       "array([[87.38842   ],\n",
       "       [52.9321    ],\n",
       "       [11.29064   ],\n",
       "       [88.44048   ],\n",
       "       [87.74122   ],\n",
       "       [93.23812   ],\n",
       "       [86.71155   ],\n",
       "       [88.53256   ],\n",
       "       [59.13634   ],\n",
       "       [98.50839   ],\n",
       "       [93.65346   ],\n",
       "       [69.39745   ],\n",
       "       [46.58049   ],\n",
       "       [63.7082    ],\n",
       "       [76.68761   ],\n",
       "       [59.78544   ],\n",
       "       [81.68909   ],\n",
       "       [91.22931   ],\n",
       "       [26.53378   ],\n",
       "       [28.89895   ],\n",
       "       [71.74531   ],\n",
       "       [45.01617   ],\n",
       "       [92.4135    ],\n",
       "       [13.077202  ],\n",
       "       [18.44135   ],\n",
       "       [88.96612   ],\n",
       "       [75.60237   ],\n",
       "       [44.17186667],\n",
       "       [80.32835   ],\n",
       "       [32.42823   ],\n",
       "       [92.24036   ],\n",
       "       [94.63238   ],\n",
       "       [90.16472   ],\n",
       "       [89.39882   ],\n",
       "       [37.8168    ],\n",
       "       [67.83227   ],\n",
       "       [78.92814   ],\n",
       "       [84.72536   ],\n",
       "       [78.77816   ],\n",
       "       [65.16322   ],\n",
       "       [93.82438   ],\n",
       "       [41.69996   ],\n",
       "       [30.8138    ],\n",
       "       [90.22944   ],\n",
       "       [84.52339   ],\n",
       "       [95.26385   ],\n",
       "       [36.51341   ],\n",
       "       [93.58103   ],\n",
       "       [91.29973   ],\n",
       "       [86.12309   ],\n",
       "       [55.58338   ],\n",
       "       [92.49466   ],\n",
       "       [44.13192   ],\n",
       "       [32.20633   ],\n",
       "       [ 8.55698   ],\n",
       "       [82.33976   ],\n",
       "       [89.87371   ],\n",
       "       [40.80784   ],\n",
       "       [89.1319    ],\n",
       "       [39.94132   ],\n",
       "       [89.73447   ],\n",
       "       [61.63147   ],\n",
       "       [75.77185   ],\n",
       "       [79.022665  ],\n",
       "       [45.16146   ],\n",
       "       [98.10531   ],\n",
       "       [98.99156   ],\n",
       "       [95.55489   ],\n",
       "       [71.87973   ],\n",
       "       [66.12337333],\n",
       "       [98.20578   ],\n",
       "       [47.42096   ],\n",
       "       [69.13151   ],\n",
       "       [97.70791   ],\n",
       "       [80.51887   ],\n",
       "       [55.82319   ],\n",
       "       [76.75564   ],\n",
       "       [92.86996   ],\n",
       "       [41.85947   ],\n",
       "       [15.69147   ],\n",
       "       [97.50248   ],\n",
       "       [62.70272   ],\n",
       "       [33.99723   ],\n",
       "       [57.60987   ],\n",
       "       [84.43463   ],\n",
       "       [30.28786   ],\n",
       "       [34.24597   ],\n",
       "       [74.026325  ],\n",
       "       [47.03503   ],\n",
       "       [31.36945   ],\n",
       "       [88.88531   ],\n",
       "       [55.84084   ],\n",
       "       [24.98002   ],\n",
       "       [85.34866   ],\n",
       "       [80.02575   ],\n",
       "       [70.95123   ],\n",
       "       [76.40056   ],\n",
       "       [81.88655   ],\n",
       "       [90.05336   ],\n",
       "       [60.75979   ],\n",
       "       [19.27829   ],\n",
       "       [52.51649   ],\n",
       "       [52.04122   ],\n",
       "       [72.736195  ],\n",
       "       [54.37951375],\n",
       "       [92.54597   ],\n",
       "       [48.4211    ],\n",
       "       [16.63379   ],\n",
       "       [78.93037   ],\n",
       "       [95.4637    ],\n",
       "       [34.59878   ],\n",
       "       [69.72867   ],\n",
       "       [32.38128   ],\n",
       "       [65.88458   ],\n",
       "       [79.18143   ],\n",
       "       [65.55881   ],\n",
       "       [92.66846   ],\n",
       "       [93.58598   ],\n",
       "       [84.54438   ],\n",
       "       [92.27357333],\n",
       "       [28.1042    ],\n",
       "       [85.50756   ],\n",
       "       [65.23344   ],\n",
       "       [34.60783182],\n",
       "       [93.78182   ],\n",
       "       [78.19143   ],\n",
       "       [32.50901   ],\n",
       "       [84.75642   ],\n",
       "       [96.42797   ],\n",
       "       [30.99458   ],\n",
       "       [90.54401   ],\n",
       "       [58.30514   ],\n",
       "       [ 5.48403   ],\n",
       "       [92.77119   ],\n",
       "       [87.79479333],\n",
       "       [80.79577   ],\n",
       "       [34.8044    ],\n",
       "       [31.4995    ],\n",
       "       [57.78983   ],\n",
       "       [99.64163   ],\n",
       "       [85.13441   ],\n",
       "       [48.50187   ],\n",
       "       [83.21746   ],\n",
       "       [23.93899   ],\n",
       "       [77.27069   ],\n",
       "       [52.64272   ],\n",
       "       [38.94894647],\n",
       "       [82.07469   ],\n",
       "       [86.64416   ],\n",
       "       [69.73008   ],\n",
       "       [22.37343   ],\n",
       "       [85.67634   ],\n",
       "       [86.11418167],\n",
       "       [98.13521   ],\n",
       "       [91.27156   ],\n",
       "       [82.72245   ],\n",
       "       [81.60692   ],\n",
       "       [88.74141   ],\n",
       "       [48.94452   ],\n",
       "       [74.55316   ],\n",
       "       [83.72251   ],\n",
       "       [65.71337   ],\n",
       "       [46.31108667],\n",
       "       [48.73362   ]])"
      ]
     },
     "execution_count": 11,
     "metadata": {},
     "output_type": "execute_result"
    }
   ],
   "source": [
    "X"
   ]
  },
  {
   "cell_type": "code",
   "execution_count": 12,
   "metadata": {},
   "outputs": [
    {
     "data": {
      "text/plain": [
       "array([[ 0.1       ],\n",
       "       [ 0.5       ],\n",
       "       [26.15      ],\n",
       "       [ 0.65      ],\n",
       "       [ 1.1       ],\n",
       "       [ 0.5       ],\n",
       "       [ 0.7       ],\n",
       "       [ 0.        ],\n",
       "       [14.28333333],\n",
       "       [ 0.        ],\n",
       "       [ 0.1       ],\n",
       "       [19.6       ],\n",
       "       [50.7       ],\n",
       "       [ 1.22      ],\n",
       "       [ 4.6       ],\n",
       "       [15.4       ],\n",
       "       [ 3.9       ],\n",
       "       [ 3.4       ],\n",
       "       [37.5       ],\n",
       "       [65.1       ],\n",
       "       [ 4.6       ],\n",
       "       [25.7       ],\n",
       "       [ 0.2       ],\n",
       "       [63.94615385],\n",
       "       [33.34285714],\n",
       "       [ 0.4       ],\n",
       "       [ 4.9       ],\n",
       "       [18.6       ],\n",
       "       [ 1.6       ],\n",
       "       [33.4       ],\n",
       "       [ 0.6       ],\n",
       "       [ 0.        ],\n",
       "       [ 0.        ],\n",
       "       [ 0.2       ],\n",
       "       [22.        ],\n",
       "       [ 2.5       ],\n",
       "       [ 2.7       ],\n",
       "       [ 3.4       ],\n",
       "       [ 0.9       ],\n",
       "       [ 2.3       ],\n",
       "       [ 0.6       ],\n",
       "       [37.98571429],\n",
       "       [27.        ],\n",
       "       [ 3.1       ],\n",
       "       [ 0.7       ],\n",
       "       [ 0.1       ],\n",
       "       [31.1       ],\n",
       "       [ 0.1       ],\n",
       "       [ 4.9       ],\n",
       "       [ 0.        ],\n",
       "       [25.325     ],\n",
       "       [ 1.4       ],\n",
       "       [ 9.5       ],\n",
       "       [19.15      ],\n",
       "       [38.575     ],\n",
       "       [11.9       ],\n",
       "       [ 0.8       ],\n",
       "       [13.        ],\n",
       "       [ 0.6       ],\n",
       "       [28.7       ],\n",
       "       [ 0.        ],\n",
       "       [18.7       ],\n",
       "       [ 8.3       ],\n",
       "       [ 0.7       ],\n",
       "       [ 0.1       ],\n",
       "       [ 0.4       ],\n",
       "       [ 0.5       ],\n",
       "       [ 1.9       ],\n",
       "       [ 1.2       ],\n",
       "       [ 0.        ],\n",
       "       [ 0.        ],\n",
       "       [29.4       ],\n",
       "       [ 5.48461538],\n",
       "       [ 0.2       ],\n",
       "       [ 2.2       ],\n",
       "       [ 9.        ],\n",
       "       [ 4.2       ],\n",
       "       [ 0.7       ],\n",
       "       [36.92      ],\n",
       "       [26.75      ],\n",
       "       [ 0.7       ],\n",
       "       [12.8       ],\n",
       "       [44.9       ],\n",
       "       [16.5       ],\n",
       "       [ 0.3       ],\n",
       "       [80.7       ],\n",
       "       [66.15      ],\n",
       "       [ 0.        ],\n",
       "       [ 0.54285714],\n",
       "       [26.2       ],\n",
       "       [ 0.1       ],\n",
       "       [ 0.9       ],\n",
       "       [ 6.5       ],\n",
       "       [ 0.22      ],\n",
       "       [ 3.45      ],\n",
       "       [ 5.4       ],\n",
       "       [ 0.        ],\n",
       "       [ 0.5       ],\n",
       "       [ 1.3       ],\n",
       "       [ 1.4       ],\n",
       "       [66.56      ],\n",
       "       [ 6.2       ],\n",
       "       [15.6       ],\n",
       "       [ 1.7       ],\n",
       "       [ 8.2       ],\n",
       "       [ 0.1       ],\n",
       "       [ 3.9       ],\n",
       "       [52.925     ],\n",
       "       [ 5.5       ],\n",
       "       [ 0.2       ],\n",
       "       [ 5.1       ],\n",
       "       [ 1.5       ],\n",
       "       [39.7       ],\n",
       "       [ 1.9       ],\n",
       "       [ 4.7       ],\n",
       "       [ 6.5       ],\n",
       "       [ 0.4       ],\n",
       "       [ 0.5       ],\n",
       "       [ 5.3       ],\n",
       "       [ 0.        ],\n",
       "       [52.56666667],\n",
       "       [ 1.2       ],\n",
       "       [17.6       ],\n",
       "       [22.82857143],\n",
       "       [ 6.6       ],\n",
       "       [ 0.92      ],\n",
       "       [31.5       ],\n",
       "       [ 0.7       ],\n",
       "       [ 0.        ],\n",
       "       [26.6       ],\n",
       "       [20.5       ],\n",
       "       [16.6       ],\n",
       "       [62.61428571],\n",
       "       [ 0.9       ],\n",
       "       [ 1.625     ],\n",
       "       [ 5.1       ],\n",
       "       [37.7       ],\n",
       "       [15.3       ],\n",
       "       [18.4       ],\n",
       "       [ 0.6       ],\n",
       "       [ 0.        ],\n",
       "       [ 1.1       ],\n",
       "       [ 6.1       ],\n",
       "       [44.81428571],\n",
       "       [ 0.        ],\n",
       "       [24.4       ],\n",
       "       [54.7       ],\n",
       "       [ 1.8       ],\n",
       "       [ 0.2       ],\n",
       "       [ 3.6       ],\n",
       "       [41.4       ],\n",
       "       [ 0.1       ],\n",
       "       [ 0.        ],\n",
       "       [ 0.2       ],\n",
       "       [ 1.2       ],\n",
       "       [ 2.6       ],\n",
       "       [ 0.1       ],\n",
       "       [81.5       ],\n",
       "       [12.08888889],\n",
       "       [ 7.1       ],\n",
       "       [ 0.44      ],\n",
       "       [10.8       ],\n",
       "       [19.8       ],\n",
       "       [30.        ]])"
      ]
     },
     "execution_count": 12,
     "metadata": {},
     "output_type": "execute_result"
    }
   ],
   "source": [
    "y"
   ]
  },
  {
   "cell_type": "code",
   "execution_count": 13,
   "metadata": {
    "scrolled": true
   },
   "outputs": [],
   "source": [
    "# Split data into a training set and a test set.\n",
    "X_train, X_test, y_train, y_test = train_test_split(X, y, test_size=0.3, random_state=0)"
   ]
  },
  {
   "cell_type": "markdown",
   "metadata": {},
   "source": [
    "### 4. Regression analysis"
   ]
  },
  {
   "cell_type": "code",
   "execution_count": 14,
   "metadata": {},
   "outputs": [],
   "source": [
    "# Create a regression object.\n",
    "\n",
    "regression = LinearRegression()  # This is the regression object, which will be fit onto the training set."
   ]
  },
  {
   "cell_type": "code",
   "execution_count": 15,
   "metadata": {},
   "outputs": [
    {
     "data": {
      "text/html": [
       "<style>#sk-container-id-1 {color: black;}#sk-container-id-1 pre{padding: 0;}#sk-container-id-1 div.sk-toggleable {background-color: white;}#sk-container-id-1 label.sk-toggleable__label {cursor: pointer;display: block;width: 100%;margin-bottom: 0;padding: 0.3em;box-sizing: border-box;text-align: center;}#sk-container-id-1 label.sk-toggleable__label-arrow:before {content: \"▸\";float: left;margin-right: 0.25em;color: #696969;}#sk-container-id-1 label.sk-toggleable__label-arrow:hover:before {color: black;}#sk-container-id-1 div.sk-estimator:hover label.sk-toggleable__label-arrow:before {color: black;}#sk-container-id-1 div.sk-toggleable__content {max-height: 0;max-width: 0;overflow: hidden;text-align: left;background-color: #f0f8ff;}#sk-container-id-1 div.sk-toggleable__content pre {margin: 0.2em;color: black;border-radius: 0.25em;background-color: #f0f8ff;}#sk-container-id-1 input.sk-toggleable__control:checked~div.sk-toggleable__content {max-height: 200px;max-width: 100%;overflow: auto;}#sk-container-id-1 input.sk-toggleable__control:checked~label.sk-toggleable__label-arrow:before {content: \"▾\";}#sk-container-id-1 div.sk-estimator input.sk-toggleable__control:checked~label.sk-toggleable__label {background-color: #d4ebff;}#sk-container-id-1 div.sk-label input.sk-toggleable__control:checked~label.sk-toggleable__label {background-color: #d4ebff;}#sk-container-id-1 input.sk-hidden--visually {border: 0;clip: rect(1px 1px 1px 1px);clip: rect(1px, 1px, 1px, 1px);height: 1px;margin: -1px;overflow: hidden;padding: 0;position: absolute;width: 1px;}#sk-container-id-1 div.sk-estimator {font-family: monospace;background-color: #f0f8ff;border: 1px dotted black;border-radius: 0.25em;box-sizing: border-box;margin-bottom: 0.5em;}#sk-container-id-1 div.sk-estimator:hover {background-color: #d4ebff;}#sk-container-id-1 div.sk-parallel-item::after {content: \"\";width: 100%;border-bottom: 1px solid gray;flex-grow: 1;}#sk-container-id-1 div.sk-label:hover label.sk-toggleable__label {background-color: #d4ebff;}#sk-container-id-1 div.sk-serial::before {content: \"\";position: absolute;border-left: 1px solid gray;box-sizing: border-box;top: 0;bottom: 0;left: 50%;z-index: 0;}#sk-container-id-1 div.sk-serial {display: flex;flex-direction: column;align-items: center;background-color: white;padding-right: 0.2em;padding-left: 0.2em;position: relative;}#sk-container-id-1 div.sk-item {position: relative;z-index: 1;}#sk-container-id-1 div.sk-parallel {display: flex;align-items: stretch;justify-content: center;background-color: white;position: relative;}#sk-container-id-1 div.sk-item::before, #sk-container-id-1 div.sk-parallel-item::before {content: \"\";position: absolute;border-left: 1px solid gray;box-sizing: border-box;top: 0;bottom: 0;left: 50%;z-index: -1;}#sk-container-id-1 div.sk-parallel-item {display: flex;flex-direction: column;z-index: 1;position: relative;background-color: white;}#sk-container-id-1 div.sk-parallel-item:first-child::after {align-self: flex-end;width: 50%;}#sk-container-id-1 div.sk-parallel-item:last-child::after {align-self: flex-start;width: 50%;}#sk-container-id-1 div.sk-parallel-item:only-child::after {width: 0;}#sk-container-id-1 div.sk-dashed-wrapped {border: 1px dashed gray;margin: 0 0.4em 0.5em 0.4em;box-sizing: border-box;padding-bottom: 0.4em;background-color: white;}#sk-container-id-1 div.sk-label label {font-family: monospace;font-weight: bold;display: inline-block;line-height: 1.2em;}#sk-container-id-1 div.sk-label-container {text-align: center;}#sk-container-id-1 div.sk-container {/* jupyter's `normalize.less` sets `[hidden] { display: none; }` but bootstrap.min.css set `[hidden] { display: none !important; }` so we also need the `!important` here to be able to override the default hidden behavior on the sphinx rendered scikit-learn.org. See: https://github.com/scikit-learn/scikit-learn/issues/21755 */display: inline-block !important;position: relative;}#sk-container-id-1 div.sk-text-repr-fallback {display: none;}</style><div id=\"sk-container-id-1\" class=\"sk-top-container\"><div class=\"sk-text-repr-fallback\"><pre>LinearRegression()</pre><b>In a Jupyter environment, please rerun this cell to show the HTML representation or trust the notebook. <br />On GitHub, the HTML representation is unable to render, please try loading this page with nbviewer.org.</b></div><div class=\"sk-container\" hidden><div class=\"sk-item\"><div class=\"sk-estimator sk-toggleable\"><input class=\"sk-toggleable__control sk-hidden--visually\" id=\"sk-estimator-id-1\" type=\"checkbox\" checked><label for=\"sk-estimator-id-1\" class=\"sk-toggleable__label sk-toggleable__label-arrow\">LinearRegression</label><div class=\"sk-toggleable__content\"><pre>LinearRegression()</pre></div></div></div></div></div>"
      ],
      "text/plain": [
       "LinearRegression()"
      ]
     },
     "execution_count": 15,
     "metadata": {},
     "output_type": "execute_result"
    }
   ],
   "source": [
    "# Fit the regression object onto the training set.\n",
    "\n",
    "regression.fit(X_train, y_train)"
   ]
  },
  {
   "cell_type": "code",
   "execution_count": 16,
   "metadata": {},
   "outputs": [],
   "source": [
    "# Predict the values of y using X.\n",
    "\n",
    "y_predicted = regression.predict(X_test)"
   ]
  },
  {
   "cell_type": "code",
   "execution_count": 17,
   "metadata": {},
   "outputs": [
    {
     "data": {
      "image/png": "[encoded data removed]",
      "text/plain": [
       "<Figure size 640x480 with 1 Axes>"
      ]
     },
     "metadata": {},
     "output_type": "display_data"
    }
   ],
   "source": [
    "# Create a plot that shows the regression line from the model on the test set.\n",
    "\n",
    "plot_test = plt\n",
    "plot_test.scatter(X_test, y_test, color='blue', s = 2)\n",
    "plot_test.plot(X_test, y_predicted, color='red', linewidth = 1)\n",
    "plot_test.title('2015 Secondary Enrolment vs Poverty Rate')\n",
    "plot_test.xlabel('School enrollment, secondary')\n",
    "plot_test.ylabel('Poverty ratio at $2.15')\n",
    "plot_test.show()"
   ]
  },
  {
   "cell_type": "code",
   "execution_count": 18,
   "metadata": {},
   "outputs": [],
   "source": [
    "# Create objects that contain the model summary statistics.\n",
    "\n",
    "rmse = mean_squared_error(y_test, y_predicted) # This is the mean squared error\n",
    "r2 = r2_score(y_test, y_predicted) # This is the R2 score. "
   ]
  },
  {
   "cell_type": "code",
   "execution_count": 19,
   "metadata": {
    "scrolled": true
   },
   "outputs": [
    {
     "name": "stdout",
     "output_type": "stream",
     "text": [
      "Slope: [[-0.51848058]]\n",
      "Mean squared error:  88.25819584904198\n",
      "R2 score:  0.7236458426690184\n"
     ]
    }
   ],
   "source": [
    "# Print the model summary statistics. This is where you evaluate the performance of the model.\n",
    "\n",
    "print('Slope:' ,regression.coef_)\n",
    "print('Mean squared error: ', rmse)\n",
    "print('R2 score: ', r2)"
   ]
  },
  {
   "cell_type": "code",
   "execution_count": 20,
   "metadata": {},
   "outputs": [
    {
     "data": {
      "text/plain": [
       "array([[26.83468116],\n",
       "       [30.76450285],\n",
       "       [21.92355355],\n",
       "       [ 1.12654068],\n",
       "       [ 5.53715643],\n",
       "       [ 0.43118046],\n",
       "       [28.983548  ],\n",
       "       [-2.36350243],\n",
       "       [ 7.83059304],\n",
       "       [ 3.20521745],\n",
       "       [30.69707445],\n",
       "       [ 7.41674703],\n",
       "       [44.18559031],\n",
       "       [-0.9277312 ],\n",
       "       [ 0.94364666],\n",
       "       [ 2.69494443],\n",
       "       [ 3.10049993],\n",
       "       [38.40465633],\n",
       "       [19.80017338],\n",
       "       [23.01755448],\n",
       "       [29.09015798],\n",
       "       [-4.63329632],\n",
       "       [ 0.6774017 ],\n",
       "       [ 4.33738719],\n",
       "       [ 4.47482084],\n",
       "       [16.36790975],\n",
       "       [ 2.60743527],\n",
       "       [42.59232543],\n",
       "       [19.73472558],\n",
       "       [30.17366313],\n",
       "       [ 0.5033737 ],\n",
       "       [15.07423331],\n",
       "       [ 4.13896986],\n",
       "       [37.46747158],\n",
       "       [34.61705203],\n",
       "       [-1.07110664],\n",
       "       [32.04540911],\n",
       "       [10.24211878],\n",
       "       [ 5.13791602],\n",
       "       [ 4.67474695],\n",
       "       [ 7.74272095],\n",
       "       [-2.46712077],\n",
       "       [-1.61716519],\n",
       "       [-4.29624765],\n",
       "       [-0.88565132],\n",
       "       [12.95784745],\n",
       "       [ 5.28148329],\n",
       "       [-1.59509866],\n",
       "       [-3.5241886 ],\n",
       "       [ 6.48821572]])"
      ]
     },
     "execution_count": 20,
     "metadata": {},
     "output_type": "execute_result"
    }
   ],
   "source": [
    "y_predicted"
   ]
  },
  {
   "cell_type": "code",
   "execution_count": 21,
   "metadata": {
    "scrolled": true
   },
   "outputs": [
    {
     "data": {
      "text/html": [
       "<div>\n",
       "<style scoped>\n",
       "    .dataframe tbody tr th:only-of-type {\n",
       "        vertical-align: middle;\n",
       "    }\n",
       "\n",
       "    .dataframe tbody tr th {\n",
       "        vertical-align: top;\n",
       "    }\n",
       "\n",
       "    .dataframe thead th {\n",
       "        text-align: right;\n",
       "    }\n",
       "</style>\n",
       "<table border=\"1\" class=\"dataframe\">\n",
       "  <thead>\n",
       "    <tr style=\"text-align: right;\">\n",
       "      <th></th>\n",
       "      <th>Actual</th>\n",
       "      <th>Predicted</th>\n",
       "    </tr>\n",
       "  </thead>\n",
       "  <tbody>\n",
       "    <tr>\n",
       "      <th>0</th>\n",
       "      <td>54.700000</td>\n",
       "      <td>26.834681</td>\n",
       "    </tr>\n",
       "    <tr>\n",
       "      <th>1</th>\n",
       "      <td>26.200000</td>\n",
       "      <td>30.764503</td>\n",
       "    </tr>\n",
       "    <tr>\n",
       "      <th>2</th>\n",
       "      <td>3.900000</td>\n",
       "      <td>21.923554</td>\n",
       "    </tr>\n",
       "    <tr>\n",
       "      <th>3</th>\n",
       "      <td>0.000000</td>\n",
       "      <td>1.126541</td>\n",
       "    </tr>\n",
       "    <tr>\n",
       "      <th>4</th>\n",
       "      <td>3.450000</td>\n",
       "      <td>5.537156</td>\n",
       "    </tr>\n",
       "    <tr>\n",
       "      <th>5</th>\n",
       "      <td>0.800000</td>\n",
       "      <td>0.431180</td>\n",
       "    </tr>\n",
       "    <tr>\n",
       "      <th>6</th>\n",
       "      <td>37.700000</td>\n",
       "      <td>28.983548</td>\n",
       "    </tr>\n",
       "    <tr>\n",
       "      <th>7</th>\n",
       "      <td>0.100000</td>\n",
       "      <td>-2.363502</td>\n",
       "    </tr>\n",
       "    <tr>\n",
       "      <th>8</th>\n",
       "      <td>4.900000</td>\n",
       "      <td>7.830593</td>\n",
       "    </tr>\n",
       "    <tr>\n",
       "      <th>9</th>\n",
       "      <td>0.700000</td>\n",
       "      <td>3.205217</td>\n",
       "    </tr>\n",
       "    <tr>\n",
       "      <th>10</th>\n",
       "      <td>15.300000</td>\n",
       "      <td>30.697074</td>\n",
       "    </tr>\n",
       "    <tr>\n",
       "      <th>11</th>\n",
       "      <td>0.000000</td>\n",
       "      <td>7.416747</td>\n",
       "    </tr>\n",
       "    <tr>\n",
       "      <th>12</th>\n",
       "      <td>62.614286</td>\n",
       "      <td>44.185590</td>\n",
       "    </tr>\n",
       "    <tr>\n",
       "      <th>13</th>\n",
       "      <td>1.400000</td>\n",
       "      <td>-0.927731</td>\n",
       "    </tr>\n",
       "    <tr>\n",
       "      <th>14</th>\n",
       "      <td>0.100000</td>\n",
       "      <td>0.943647</td>\n",
       "    </tr>\n",
       "    <tr>\n",
       "      <th>15</th>\n",
       "      <td>1.200000</td>\n",
       "      <td>2.694944</td>\n",
       "    </tr>\n",
       "    <tr>\n",
       "      <th>16</th>\n",
       "      <td>3.400000</td>\n",
       "      <td>3.100500</td>\n",
       "    </tr>\n",
       "    <tr>\n",
       "      <th>17</th>\n",
       "      <td>52.925000</td>\n",
       "      <td>38.404656</td>\n",
       "    </tr>\n",
       "    <tr>\n",
       "      <th>18</th>\n",
       "      <td>6.200000</td>\n",
       "      <td>19.800173</td>\n",
       "    </tr>\n",
       "    <tr>\n",
       "      <th>19</th>\n",
       "      <td>19.800000</td>\n",
       "      <td>23.017554</td>\n",
       "    </tr>\n",
       "    <tr>\n",
       "      <th>20</th>\n",
       "      <td>5.100000</td>\n",
       "      <td>29.090158</td>\n",
       "    </tr>\n",
       "    <tr>\n",
       "      <th>21</th>\n",
       "      <td>0.600000</td>\n",
       "      <td>-4.633296</td>\n",
       "    </tr>\n",
       "    <tr>\n",
       "      <th>22</th>\n",
       "      <td>0.200000</td>\n",
       "      <td>0.677402</td>\n",
       "    </tr>\n",
       "    <tr>\n",
       "      <th>23</th>\n",
       "      <td>11.900000</td>\n",
       "      <td>4.337387</td>\n",
       "    </tr>\n",
       "    <tr>\n",
       "      <th>24</th>\n",
       "      <td>1.800000</td>\n",
       "      <td>4.474821</td>\n",
       "    </tr>\n",
       "    <tr>\n",
       "      <th>25</th>\n",
       "      <td>14.283333</td>\n",
       "      <td>16.367910</td>\n",
       "    </tr>\n",
       "    <tr>\n",
       "      <th>26</th>\n",
       "      <td>0.100000</td>\n",
       "      <td>2.607435</td>\n",
       "    </tr>\n",
       "    <tr>\n",
       "      <th>27</th>\n",
       "      <td>38.575000</td>\n",
       "      <td>42.592325</td>\n",
       "    </tr>\n",
       "    <tr>\n",
       "      <th>28</th>\n",
       "      <td>24.400000</td>\n",
       "      <td>19.734726</td>\n",
       "    </tr>\n",
       "    <tr>\n",
       "      <th>29</th>\n",
       "      <td>31.500000</td>\n",
       "      <td>30.173663</td>\n",
       "    </tr>\n",
       "  </tbody>\n",
       "</table>\n",
       "</div>"
      ],
      "text/plain": [
       "       Actual  Predicted\n",
       "0   54.700000  26.834681\n",
       "1   26.200000  30.764503\n",
       "2    3.900000  21.923554\n",
       "3    0.000000   1.126541\n",
       "4    3.450000   5.537156\n",
       "5    0.800000   0.431180\n",
       "6   37.700000  28.983548\n",
       "7    0.100000  -2.363502\n",
       "8    4.900000   7.830593\n",
       "9    0.700000   3.205217\n",
       "10  15.300000  30.697074\n",
       "11   0.000000   7.416747\n",
       "12  62.614286  44.185590\n",
       "13   1.400000  -0.927731\n",
       "14   0.100000   0.943647\n",
       "15   1.200000   2.694944\n",
       "16   3.400000   3.100500\n",
       "17  52.925000  38.404656\n",
       "18   6.200000  19.800173\n",
       "19  19.800000  23.017554\n",
       "20   5.100000  29.090158\n",
       "21   0.600000  -4.633296\n",
       "22   0.200000   0.677402\n",
       "23  11.900000   4.337387\n",
       "24   1.800000   4.474821\n",
       "25  14.283333  16.367910\n",
       "26   0.100000   2.607435\n",
       "27  38.575000  42.592325\n",
       "28  24.400000  19.734726\n",
       "29  31.500000  30.173663"
      ]
     },
     "execution_count": 21,
     "metadata": {},
     "output_type": "execute_result"
    }
   ],
   "source": [
    "# Create a dataframe comparing the actual and predicted values of y.\n",
    "\n",
    "data = pd.DataFrame({'Actual': y_test.flatten(), 'Predicted': y_predicted.flatten()})\n",
    "data.head(30)"
   ]
  },
  {
   "cell_type": "markdown",
   "metadata": {},
   "source": [
    "##### Compare how the regression fits the training set"
   ]
  },
  {
   "cell_type": "code",
   "execution_count": 22,
   "metadata": {},
   "outputs": [],
   "source": [
    "# Predict.\n",
    "\n",
    "y_predicted_train = regression.predict(X_train) # This is predicting X_train!"
   ]
  },
  {
   "cell_type": "code",
   "execution_count": 23,
   "metadata": {},
   "outputs": [],
   "source": [
    "rmse = mean_squared_error(y_train, y_predicted_train)\n",
    "r2 = r2_score(y_train, y_predicted_train)"
   ]
  },
  {
   "cell_type": "code",
   "execution_count": 24,
   "metadata": {},
   "outputs": [
    {
     "name": "stdout",
     "output_type": "stream",
     "text": [
      "Slope: [[-0.51848058]]\n",
      "Mean squared error:  177.481083738385\n",
      "R2 score:  0.4617131661037158\n"
     ]
    }
   ],
   "source": [
    "print('Slope:' ,regression.coef_)\n",
    "print('Mean squared error: ', rmse)\n",
    "print('R2 score: ', r2)"
   ]
  },
  {
   "cell_type": "code",
   "execution_count": 25,
   "metadata": {
    "scrolled": true
   },
   "outputs": [
    {
     "data": {
      "image/png": "[encoded data removed]",
      "text/plain": [
       "<Figure size 640x480 with 1 Axes>"
      ]
     },
     "metadata": {},
     "output_type": "display_data"
    }
   ],
   "source": [
    "# Visualizing the training set results.\n",
    "\n",
    "plot_test = plt\n",
    "plot_test.scatter(X_train, y_train, color='green', s = 1)\n",
    "plot_test.plot(X_train, y_predicted_train, color='red', linewidth =1)\n",
    "plot_test.title('2015 Secondary Enrolment vs Poverty Rate')\n",
    "plot_test.xlabel('School enrollment, secondary')\n",
    "plot_test.ylabel('Poverty ratio at $2.15')\n",
    "plot_test.show()"
   ]
  },
  {
   "cell_type": "markdown",
   "metadata": {},
   "source": [
    "### Bonus: performance improvement after removing outliers"
   ]
  },
  {
   "cell_type": "code",
   "execution_count": 26,
   "metadata": {},
   "outputs": [],
   "source": [
    "# calculate IQR for column Height\n",
    "Q1 = subframe['Poverty headcount ratio at $2.15 a day (2017 PPP) (% of population)'].quantile(0.25)\n",
    "Q3 = subframe['Poverty headcount ratio at $2.15 a day (2017 PPP) (% of population)'].quantile(0.75)\n",
    "IQR = Q3 - Q1\n",
    "\n",
    "# Keep values between outlier boundaries\n",
    "threshold = 1.5\n",
    "subframe = subframe[(subframe['Poverty headcount ratio at $2.15 a day (2017 PPP) (% of population)'] >= Q1 - threshold * IQR) &\n",
    "                    (subframe['Poverty headcount ratio at $2.15 a day (2017 PPP) (% of population)'] <= Q3 + threshold * IQR)]"
   ]
  },
  {
   "cell_type": "code",
   "execution_count": 27,
   "metadata": {},
   "outputs": [],
   "source": [
    "# calculate IQR for column Height\n",
    "Q1 = subframe['School enrollment, secondary (% net)'].quantile(0.25)\n",
    "Q3 = subframe['School enrollment, secondary (% net)'].quantile(0.75)\n",
    "IQR = Q3 - Q1\n",
    "\n",
    "# Keep values between outlier boundaries\n",
    "threshold = 1.5\n",
    "subframe = subframe[(subframe['School enrollment, secondary (% net)'] >= Q1 - threshold * IQR) &\n",
    "                    (subframe['School enrollment, secondary (% net)'] <= Q3 + threshold * IQR)]"
   ]
  },
  {
   "cell_type": "code",
   "execution_count": 28,
   "metadata": {},
   "outputs": [
    {
     "name": "stdout",
     "output_type": "stream",
     "text": [
      "<class 'pandas.core.frame.DataFrame'>\n",
      "Index: 153 entries, 45 to 4751\n",
      "Data columns (total 2 columns):\n",
      " #   Column                                                               Non-Null Count  Dtype  \n",
      "---  ------                                                               --------------  -----  \n",
      " 0   School enrollment, secondary (% net)                                 153 non-null    float64\n",
      " 1   Poverty headcount ratio at $2.15 a day (2017 PPP) (% of population)  153 non-null    float64\n",
      "dtypes: float64(2)\n",
      "memory usage: 3.6 KB\n"
     ]
    }
   ],
   "source": [
    "subframe.info()"
   ]
  },
  {
   "cell_type": "code",
   "execution_count": 29,
   "metadata": {},
   "outputs": [
    {
     "data": {
      "text/plain": [
       "(153, 2)"
      ]
     },
     "execution_count": 29,
     "metadata": {},
     "output_type": "execute_result"
    }
   ],
   "source": [
    "subframe.shape"
   ]
  },
  {
   "cell_type": "code",
   "execution_count": 30,
   "metadata": {},
   "outputs": [
    {
     "data": {
      "image/png": "[encoded data removed]",
      "text/plain": [
       "<Figure size 640x480 with 1 Axes>"
      ]
     },
     "metadata": {},
     "output_type": "display_data"
    }
   ],
   "source": [
    "# See how the scatterplot looks without outliers.\n",
    "\n",
    "subframe.plot(x = 'School enrollment, secondary (% net)', y='Poverty headcount ratio at $2.15 a day (2017 PPP) (% of population)', style='x')  \n",
    "plot_test.title('2015 Secondary Enrolment vs Poverty Rate')\n",
    "plot_test.xlabel('School enrollment, secondary')\n",
    "plot_test.ylabel('Poverty ratio at $2.15')\n",
    "plt.show()"
   ]
  },
  {
   "cell_type": "code",
   "execution_count": 31,
   "metadata": {},
   "outputs": [],
   "source": [
    "# Reshape again.\n",
    "\n",
    "X_2 = subframe['School enrollment, secondary (% net)'].values.reshape(-1,1)\n",
    "y_2 = subframe['Poverty headcount ratio at $2.15 a day (2017 PPP) (% of population)'].values.reshape(-1,1)"
   ]
  },
  {
   "cell_type": "code",
   "execution_count": 32,
   "metadata": {
    "scrolled": true
   },
   "outputs": [],
   "source": [
    "X_train_2, X_test_2, y_train_2, y_test_2 = train_test_split(X_2, y_2, test_size=0.3, random_state=0)"
   ]
  },
  {
   "cell_type": "code",
   "execution_count": 33,
   "metadata": {},
   "outputs": [
    {
     "data": {
      "text/html": [
       "<style>#sk-container-id-2 {color: black;}#sk-container-id-2 pre{padding: 0;}#sk-container-id-2 div.sk-toggleable {background-color: white;}#sk-container-id-2 label.sk-toggleable__label {cursor: pointer;display: block;width: 100%;margin-bottom: 0;padding: 0.3em;box-sizing: border-box;text-align: center;}#sk-container-id-2 label.sk-toggleable__label-arrow:before {content: \"▸\";float: left;margin-right: 0.25em;color: #696969;}#sk-container-id-2 label.sk-toggleable__label-arrow:hover:before {color: black;}#sk-container-id-2 div.sk-estimator:hover label.sk-toggleable__label-arrow:before {color: black;}#sk-container-id-2 div.sk-toggleable__content {max-height: 0;max-width: 0;overflow: hidden;text-align: left;background-color: #f0f8ff;}#sk-container-id-2 div.sk-toggleable__content pre {margin: 0.2em;color: black;border-radius: 0.25em;background-color: #f0f8ff;}#sk-container-id-2 input.sk-toggleable__control:checked~div.sk-toggleable__content {max-height: 200px;max-width: 100%;overflow: auto;}#sk-container-id-2 input.sk-toggleable__control:checked~label.sk-toggleable__label-arrow:before {content: \"▾\";}#sk-container-id-2 div.sk-estimator input.sk-toggleable__control:checked~label.sk-toggleable__label {background-color: #d4ebff;}#sk-container-id-2 div.sk-label input.sk-toggleable__control:checked~label.sk-toggleable__label {background-color: #d4ebff;}#sk-container-id-2 input.sk-hidden--visually {border: 0;clip: rect(1px 1px 1px 1px);clip: rect(1px, 1px, 1px, 1px);height: 1px;margin: -1px;overflow: hidden;padding: 0;position: absolute;width: 1px;}#sk-container-id-2 div.sk-estimator {font-family: monospace;background-color: #f0f8ff;border: 1px dotted black;border-radius: 0.25em;box-sizing: border-box;margin-bottom: 0.5em;}#sk-container-id-2 div.sk-estimator:hover {background-color: #d4ebff;}#sk-container-id-2 div.sk-parallel-item::after {content: \"\";width: 100%;border-bottom: 1px solid gray;flex-grow: 1;}#sk-container-id-2 div.sk-label:hover label.sk-toggleable__label {background-color: #d4ebff;}#sk-container-id-2 div.sk-serial::before {content: \"\";position: absolute;border-left: 1px solid gray;box-sizing: border-box;top: 0;bottom: 0;left: 50%;z-index: 0;}#sk-container-id-2 div.sk-serial {display: flex;flex-direction: column;align-items: center;background-color: white;padding-right: 0.2em;padding-left: 0.2em;position: relative;}#sk-container-id-2 div.sk-item {position: relative;z-index: 1;}#sk-container-id-2 div.sk-parallel {display: flex;align-items: stretch;justify-content: center;background-color: white;position: relative;}#sk-container-id-2 div.sk-item::before, #sk-container-id-2 div.sk-parallel-item::before {content: \"\";position: absolute;border-left: 1px solid gray;box-sizing: border-box;top: 0;bottom: 0;left: 50%;z-index: -1;}#sk-container-id-2 div.sk-parallel-item {display: flex;flex-direction: column;z-index: 1;position: relative;background-color: white;}#sk-container-id-2 div.sk-parallel-item:first-child::after {align-self: flex-end;width: 50%;}#sk-container-id-2 div.sk-parallel-item:last-child::after {align-self: flex-start;width: 50%;}#sk-container-id-2 div.sk-parallel-item:only-child::after {width: 0;}#sk-container-id-2 div.sk-dashed-wrapped {border: 1px dashed gray;margin: 0 0.4em 0.5em 0.4em;box-sizing: border-box;padding-bottom: 0.4em;background-color: white;}#sk-container-id-2 div.sk-label label {font-family: monospace;font-weight: bold;display: inline-block;line-height: 1.2em;}#sk-container-id-2 div.sk-label-container {text-align: center;}#sk-container-id-2 div.sk-container {/* jupyter's `normalize.less` sets `[hidden] { display: none; }` but bootstrap.min.css set `[hidden] { display: none !important; }` so we also need the `!important` here to be able to override the default hidden behavior on the sphinx rendered scikit-learn.org. See: https://github.com/scikit-learn/scikit-learn/issues/21755 */display: inline-block !important;position: relative;}#sk-container-id-2 div.sk-text-repr-fallback {display: none;}</style><div id=\"sk-container-id-2\" class=\"sk-top-container\"><div class=\"sk-text-repr-fallback\"><pre>LinearRegression()</pre><b>In a Jupyter environment, please rerun this cell to show the HTML representation or trust the notebook. <br />On GitHub, the HTML representation is unable to render, please try loading this page with nbviewer.org.</b></div><div class=\"sk-container\" hidden><div class=\"sk-item\"><div class=\"sk-estimator sk-toggleable\"><input class=\"sk-toggleable__control sk-hidden--visually\" id=\"sk-estimator-id-2\" type=\"checkbox\" checked><label for=\"sk-estimator-id-2\" class=\"sk-toggleable__label sk-toggleable__label-arrow\">LinearRegression</label><div class=\"sk-toggleable__content\"><pre>LinearRegression()</pre></div></div></div></div></div>"
      ],
      "text/plain": [
       "LinearRegression()"
      ]
     },
     "execution_count": 33,
     "metadata": {},
     "output_type": "execute_result"
    }
   ],
   "source": [
    "# Run and fit the regression.\n",
    "\n",
    "regression = LinearRegression()  \n",
    "regression.fit(X_train_2, y_train_2)"
   ]
  },
  {
   "cell_type": "code",
   "execution_count": 34,
   "metadata": {},
   "outputs": [],
   "source": [
    "# Predict.\n",
    "\n",
    "y_predicted_2 = regression.predict(X_test_2)"
   ]
  },
  {
   "cell_type": "code",
   "execution_count": 35,
   "metadata": {},
   "outputs": [],
   "source": [
    "rmse = mean_squared_error(y_test_2, y_predicted_2)\n",
    "r2 = r2_score(y_test_2, y_predicted_2)"
   ]
  },
  {
   "cell_type": "code",
   "execution_count": 36,
   "metadata": {},
   "outputs": [
    {
     "name": "stdout",
     "output_type": "stream",
     "text": [
      "Slope: [[-0.40934804]]\n",
      "Mean squared error:  37.067306852149\n",
      "R2 score:  0.6636374007712669\n"
     ]
    }
   ],
   "source": [
    "print('Slope:' ,regression.coef_)\n",
    "print('Mean squared error: ', rmse)\n",
    "print('R2 score: ', r2)"
   ]
  },
  {
   "cell_type": "code",
   "execution_count": 37,
   "metadata": {
    "scrolled": true
   },
   "outputs": [
    {
     "data": {
      "image/png": "[encoded data removed]",
      "text/plain": [
       "<Figure size 640x480 with 1 Axes>"
      ]
     },
     "metadata": {},
     "output_type": "display_data"
    }
   ],
   "source": [
    "# Visualizing the test set results.\n",
    "plot_test = plt\n",
    "plot_test.scatter(X_test_2, y_test_2, color='blue', s = 2)\n",
    "plot_test.plot(X_test_2, y_predicted_2, color='red', linewidth = 1)\n",
    "plot_test.title('2015 Secondary Enrolment vs Poverty Rate')\n",
    "plot_test.xlabel('School enrollment, secondary')\n",
    "plot_test.ylabel('Poverty ratio at $2.15')\n",
    "plot_test.show()"
   ]
  },
  {
   "cell_type": "markdown",
   "metadata": {},
   "source": [
    "### Interpretation:\n",
    "The regression line fits the shape of the test data when plotted. The large r2 value (0.66) means that the correlation is strong, but the RMSE value (37) is mid-ranged compared to the data itself. This means that whilst the regression calculation can give a good idea as to if the poverty level is low or high when given the education enrolment rate, the it will not accurately predict the actual enrolment rate.\n",
    "\n",
    "The graph showing the regression line agaist the test data shows us that these data points for the lowest education enrolment rates are above the regression line, indicating higher than predicted poverty levels. And, as the enrolment rate increases the model is more likely to overpredict the rate of poverty. This means that the linear regression model is not the best for predicting the results of these data, the affect of education and poverty rates is likely more extreeme than the model has assessed.\n",
    "\n",
    "A negative exponential or polynomial relationship is more liekly to give an accurate prediction than the linear model used."
   ]
  }
 ],
 "metadata": {
  "kernelspec": {
   "display_name": "Python 3 (ipykernel)",
   "language": "python",
   "name": "python3"
  },
  "language_info": {
   "codemirror_mode": {
    "name": "ipython",
    "version": 3
   },
   "file_extension": ".py",
   "mimetype": "text/x-python",
   "name": "python",
   "nbconvert_exporter": "python",
   "pygments_lexer": "ipython3",
   "version": "3.11.5"
  }
 },
 "nbformat": 4,
 "nbformat_minor": 4
}
